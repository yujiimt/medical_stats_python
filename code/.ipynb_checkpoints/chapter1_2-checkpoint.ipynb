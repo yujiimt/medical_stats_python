{
 "cells": [
  {
   "cell_type": "code",
   "execution_count": 2,
   "metadata": {},
   "outputs": [],
   "source": [
    "import numpy as np\n",
    "import pandas as pd\n",
    "import matplotlib.pyplot as plt\n",
    "import gc"
   ]
  },
  {
   "cell_type": "code",
   "execution_count": 3,
   "metadata": {},
   "outputs": [],
   "source": [
    "%matplotlib notebook"
   ]
  },
  {
   "cell_type": "code",
   "execution_count": 4,
   "metadata": {},
   "outputs": [],
   "source": [
    "pd.options.display.max_rows = 6\n",
    "pd.options.display.max_columns = 12\n",
    "\n",
    "# matplotlib のフォントを設定\n",
    "plt.rcParams['font.family'] = 'Times New Roman'\n",
    "plt.rcParams['mathtext.fontset'] = 'stix'"
   ]
  },
  {
   "cell_type": "code",
   "execution_count": 5,
   "metadata": {},
   "outputs": [],
   "source": [
    "def ym_to_t(ym):\n",
    "    y = int(ym[:4])\n",
    "    m = (int(ym[5:]) - 0.5) / 12\n",
    "    return y + m"
   ]
  },
  {
   "cell_type": "code",
   "execution_count": 6,
   "metadata": {},
   "outputs": [
    {
     "name": "stdout",
     "output_type": "stream",
     "text": [
      "2016.4583333333333\n"
     ]
    }
   ],
   "source": [
    "print(ym_to_t('2016/06'))"
   ]
  },
  {
   "cell_type": "code",
   "execution_count": 15,
   "metadata": {},
   "outputs": [],
   "source": [
    "# 時刻 t を　yyyy/mm 形式の文字列に変換する\n",
    "# 時刻 t が yyyy年 mm月の1日〜月末にあれば、　yyyy/mm を返す\n",
    "\n",
    "def t_to_ym(t):\n",
    "    y = int(t)\n",
    "    m = int((t - y) * 12) + 1\n",
    "    m = max(min(m, 12), 1)\n",
    "    #月部分を２桁表示になるようにパディングする\n",
    "    return str(y) + '/' + str(m).zfill(2)"
   ]
  },
  {
   "cell_type": "code",
   "execution_count": 16,
   "metadata": {},
   "outputs": [
    {
     "name": "stdout",
     "output_type": "stream",
     "text": [
      "2019/06\n"
     ]
    }
   ],
   "source": [
    "print(t_to_ym(2019.49))"
   ]
  },
  {
   "cell_type": "code",
   "execution_count": 17,
   "metadata": {},
   "outputs": [
    {
     "data": {
      "text/html": [
       "<div>\n",
       "<style scoped>\n",
       "    .dataframe tbody tr th:only-of-type {\n",
       "        vertical-align: middle;\n",
       "    }\n",
       "\n",
       "    .dataframe tbody tr th {\n",
       "        vertical-align: top;\n",
       "    }\n",
       "\n",
       "    .dataframe thead th {\n",
       "        text-align: right;\n",
       "    }\n",
       "</style>\n",
       "<table border=\"1\" class=\"dataframe\">\n",
       "  <thead>\n",
       "    <tr style=\"text-align: right;\">\n",
       "      <th></th>\n",
       "      <th>year</th>\n",
       "      <th>sex</th>\n",
       "      <th>ratio</th>\n",
       "      <th>cum_ratio</th>\n",
       "    </tr>\n",
       "  </thead>\n",
       "  <tbody>\n",
       "    <tr>\n",
       "      <td>0</td>\n",
       "      <td>1947</td>\n",
       "      <td>F</td>\n",
       "      <td>0.012150</td>\n",
       "      <td>0.012150</td>\n",
       "    </tr>\n",
       "    <tr>\n",
       "      <td>1</td>\n",
       "      <td>1948</td>\n",
       "      <td>F</td>\n",
       "      <td>0.012162</td>\n",
       "      <td>0.024311</td>\n",
       "    </tr>\n",
       "    <tr>\n",
       "      <td>2</td>\n",
       "      <td>1949</td>\n",
       "      <td>F</td>\n",
       "      <td>0.012288</td>\n",
       "      <td>0.036600</td>\n",
       "    </tr>\n",
       "    <tr>\n",
       "      <td>...</td>\n",
       "      <td>...</td>\n",
       "      <td>...</td>\n",
       "      <td>...</td>\n",
       "      <td>...</td>\n",
       "    </tr>\n",
       "    <tr>\n",
       "      <td>137</td>\n",
       "      <td>2014</td>\n",
       "      <td>M</td>\n",
       "      <td>0.004812</td>\n",
       "      <td>0.990505</td>\n",
       "    </tr>\n",
       "    <tr>\n",
       "      <td>138</td>\n",
       "      <td>2015</td>\n",
       "      <td>M</td>\n",
       "      <td>0.004811</td>\n",
       "      <td>0.995316</td>\n",
       "    </tr>\n",
       "    <tr>\n",
       "      <td>139</td>\n",
       "      <td>2016</td>\n",
       "      <td>M</td>\n",
       "      <td>0.004684</td>\n",
       "      <td>1.000000</td>\n",
       "    </tr>\n",
       "  </tbody>\n",
       "</table>\n",
       "<p>140 rows × 4 columns</p>\n",
       "</div>"
      ],
      "text/plain": [
       "     year sex     ratio  cum_ratio\n",
       "0    1947   F  0.012150   0.012150\n",
       "1    1948   F  0.012162   0.024311\n",
       "2    1949   F  0.012288   0.036600\n",
       "..    ...  ..       ...        ...\n",
       "137  2014   M  0.004812   0.990505\n",
       "138  2015   M  0.004811   0.995316\n",
       "139  2016   M  0.004684   1.000000\n",
       "\n",
       "[140 rows x 4 columns]"
      ]
     },
     "execution_count": 17,
     "metadata": {},
     "output_type": "execute_result"
    }
   ],
   "source": [
    "df_birth = pd.read_csv('ipss_birth.csv')\n",
    "df_birth"
   ]
  },
  {
   "cell_type": "code",
   "execution_count": 18,
   "metadata": {},
   "outputs": [],
   "source": [
    "# 分析開始時点\n",
    "start_study_t = 2010\n",
    "\n",
    "#分析終了時点\n",
    "end_study_t = 2019.999\n",
    "\n",
    "\n",
    "#指数分布のパラメタ\n",
    "#観測開始期間、観察終了期間を決定する\n",
    "mu = 10\n",
    "\n",
    "#N 人の加入者を生成する\n",
    "N = 5000\n",
    "\n",
    "#全体の内、被扶養者の占める割合\n",
    "family_ratio = 0.3"
   ]
  },
  {
   "cell_type": "code",
   "execution_count": 22,
   "metadata": {},
   "outputs": [],
   "source": [
    "# 変数初期化\n",
    "i = 0\n",
    "\n",
    "#random seed\n",
    "rs= 0\n",
    "np.random.seed(rs)\n",
    "\n",
    "\n",
    "df_info = pd.DataFrame()\n",
    "\n",
    "\n",
    "while len(df_info) < N:\n",
    "    # 一様乱数\n",
    "    r = np.random.rand()\n",
    "    #乱数シード更新\n",
    "    rs = rs + 1\n",
    "    np.random.seed(rs)\n",
    "    # ss : pd.Series\n",
    "    ss = df_birth[df_birth['cum_ratio'] >= r].iloc[0]\n",
    "    sex = ss.sex\n",
    "    by = ss.year\n",
    "    # 誕生月を一様に分布させる\n",
    "    # Birth Time -> Birth Year Time\n",
    "    bt = by + np.random.rand()\n",
    "    rs = rs + 1\n",
    "    np.random.seed(rs)\n",
    "    bym = t_to_ym(bt)\n",
    "    \n",
    "    #擬似データにおいては観察開始期間、観察終了期間は指数分布で決定する\n",
    "    start_t = start_study_t - mu  + np.random.exponential(mu)\n",
    "    rs = rs + 1\n",
    "    np.random.seed(rs)\n",
    "    end_t = start_t + np.random.exponential(mu)\n",
    "    rs = rs + 1\n",
    "    np.random.seed(rs)\n",
    "    # | は論理和（or）\n",
    "    if (end_t < start_study_t) | (end_study_t < start_t):\n",
    "        # 分析期間に在籍しない場合 -> 何もしない\n",
    "        pass\n",
    "    else:\n",
    "        # iid 個人ID\n",
    "        cols = ['iid', 'sex', 'family', 'birth_ym',\n",
    "               'start_obs_ym', 'end_obs_ym']\n",
    "        df_expouse = pd.DataFrame(np.zeros(len(cols)).reshape(1, len(cols)), \n",
    "                                  columns = cols)\n",
    "        #本人:1, 家族：２\n",
    "        family = 2 - (np.random.rand() > family_ratio)\n",
    "        rs = rs + 1\n",
    "        np.random.seed(rs)\n",
    "        df_expouse[cols] = ['i' + str(i).zfill(6), sex, family, bym,\n",
    "                           t_to_ym(start_t), t_to_ym(end_t)]\n",
    "        \n",
    "        #df_info　の下に\n",
    "        # 新しく作成した１列データフレーム　df_exposureを追加する\n",
    "        df_info = pd.concat([df_info, df_expouse], axis = 0)\n",
    "    i = i+1\n",
    "    \n",
    "# index の振り直し\n",
    "df_info = df_info.reset_index()\n",
    "#reset_index()により作成されてしまった index という列を消す\n",
    "del df_info['index']"
   ]
  },
  {
   "cell_type": "code",
   "execution_count": 23,
   "metadata": {},
   "outputs": [
    {
     "data": {
      "text/plain": [
       "(5000, 6)"
      ]
     },
     "execution_count": 23,
     "metadata": {},
     "output_type": "execute_result"
    }
   ],
   "source": [
    "df_info.shape"
   ]
  },
  {
   "cell_type": "code",
   "execution_count": 25,
   "metadata": {},
   "outputs": [
    {
     "data": {
      "text/html": [
       "<div>\n",
       "<style scoped>\n",
       "    .dataframe tbody tr th:only-of-type {\n",
       "        vertical-align: middle;\n",
       "    }\n",
       "\n",
       "    .dataframe tbody tr th {\n",
       "        vertical-align: top;\n",
       "    }\n",
       "\n",
       "    .dataframe thead th {\n",
       "        text-align: right;\n",
       "    }\n",
       "</style>\n",
       "<table border=\"1\" class=\"dataframe\">\n",
       "  <thead>\n",
       "    <tr style=\"text-align: right;\">\n",
       "      <th></th>\n",
       "      <th>iid</th>\n",
       "      <th>sex</th>\n",
       "      <th>family</th>\n",
       "      <th>birth_ym</th>\n",
       "      <th>start_obs_ym</th>\n",
       "      <th>end_obs_ym</th>\n",
       "    </tr>\n",
       "  </thead>\n",
       "  <tbody>\n",
       "    <tr>\n",
       "      <td>0</td>\n",
       "      <td>i000000</td>\n",
       "      <td>M</td>\n",
       "      <td>1.0</td>\n",
       "      <td>1952/06</td>\n",
       "      <td>2005/09</td>\n",
       "      <td>2013/09</td>\n",
       "    </tr>\n",
       "    <tr>\n",
       "      <td>1</td>\n",
       "      <td>i000001</td>\n",
       "      <td>F</td>\n",
       "      <td>2.0</td>\n",
       "      <td>1972/11</td>\n",
       "      <td>2000/10</td>\n",
       "      <td>2021/06</td>\n",
       "    </tr>\n",
       "    <tr>\n",
       "      <td>2</td>\n",
       "      <td>i000002</td>\n",
       "      <td>M</td>\n",
       "      <td>1.0</td>\n",
       "      <td>1978/03</td>\n",
       "      <td>2001/09</td>\n",
       "      <td>2016/09</td>\n",
       "    </tr>\n",
       "    <tr>\n",
       "      <td>3</td>\n",
       "      <td>i000003</td>\n",
       "      <td>M</td>\n",
       "      <td>2.0</td>\n",
       "      <td>1989/03</td>\n",
       "      <td>2003/06</td>\n",
       "      <td>2013/12</td>\n",
       "    </tr>\n",
       "    <tr>\n",
       "      <td>4</td>\n",
       "      <td>i000006</td>\n",
       "      <td>M</td>\n",
       "      <td>1.0</td>\n",
       "      <td>1973/11</td>\n",
       "      <td>2010/04</td>\n",
       "      <td>2013/09</td>\n",
       "    </tr>\n",
       "  </tbody>\n",
       "</table>\n",
       "</div>"
      ],
      "text/plain": [
       "       iid sex  family birth_ym start_obs_ym end_obs_ym\n",
       "0  i000000   M     1.0  1952/06      2005/09    2013/09\n",
       "1  i000001   F     2.0  1972/11      2000/10    2021/06\n",
       "2  i000002   M     1.0  1978/03      2001/09    2016/09\n",
       "3  i000003   M     2.0  1989/03      2003/06    2013/12\n",
       "4  i000006   M     1.0  1973/11      2010/04    2013/09"
      ]
     },
     "execution_count": 25,
     "metadata": {},
     "output_type": "execute_result"
    }
   ],
   "source": [
    "df_info.head()"
   ]
  },
  {
   "cell_type": "code",
   "execution_count": 26,
   "metadata": {},
   "outputs": [
    {
     "ename": "NameError",
     "evalue": "name 'df_brith' is not defined",
     "output_type": "error",
     "traceback": [
      "\u001b[0;31m---------------------------------------------------------------------------\u001b[0m",
      "\u001b[0;31mNameError\u001b[0m                                 Traceback (most recent call last)",
      "\u001b[0;32m<ipython-input-26-c33e2a5cce69>\u001b[0m in \u001b[0;36m<module>\u001b[0;34m\u001b[0m\n\u001b[1;32m      2\u001b[0m \u001b[0;34m\u001b[0m\u001b[0m\n\u001b[1;32m      3\u001b[0m \u001b[0;31m# 真の出生比率\u001b[0m\u001b[0;34m\u001b[0m\u001b[0;34m\u001b[0m\u001b[0;34m\u001b[0m\u001b[0m\n\u001b[0;32m----> 4\u001b[0;31m \u001b[0mdf_birth_M\u001b[0m \u001b[0;34m=\u001b[0m \u001b[0mdf_birth\u001b[0m\u001b[0;34m.\u001b[0m\u001b[0mloc\u001b[0m\u001b[0;34m[\u001b[0m\u001b[0mdf_brith\u001b[0m\u001b[0;34m.\u001b[0m\u001b[0msex\u001b[0m \u001b[0;34m==\u001b[0m \u001b[0;34m'M'\u001b[0m\u001b[0;34m,\u001b[0m \u001b[0;34m[\u001b[0m\u001b[0;34m'year'\u001b[0m\u001b[0;34m,\u001b[0m \u001b[0;34m'ratio'\u001b[0m\u001b[0;34m]\u001b[0m\u001b[0;34m]\u001b[0m\u001b[0;34m\u001b[0m\u001b[0;34m\u001b[0m\u001b[0m\n\u001b[0m\u001b[1;32m      5\u001b[0m \u001b[0mdf_birth_M\u001b[0m\u001b[0;34m[\u001b[0m\u001b[0;34m'ratio'\u001b[0m\u001b[0;34m]\u001b[0m \u001b[0;34m=\u001b[0m \u001b[0mdf_birth_M\u001b[0m\u001b[0;34m.\u001b[0m\u001b[0mratio\u001b[0m \u001b[0;34m/\u001b[0m \u001b[0mdf_birth_M\u001b[0m\u001b[0;34m.\u001b[0m\u001b[0mratio\u001b[0m\u001b[0;34m.\u001b[0m\u001b[0msum\u001b[0m\u001b[0;34m(\u001b[0m\u001b[0;34m)\u001b[0m\u001b[0;34m\u001b[0m\u001b[0;34m\u001b[0m\u001b[0m\n\u001b[1;32m      6\u001b[0m \u001b[0;34m\u001b[0m\u001b[0m\n",
      "\u001b[0;31mNameError\u001b[0m: name 'df_brith' is not defined"
     ]
    }
   ],
   "source": [
    "# 真の比率 vs 擬似生成された誕生年の比率（男性のみ）を図で表現\n",
    "\n",
    "# 真の出生比率\n",
    "df_birth_M = df_birth.loc[df_brith.sex == 'M', ['year', 'ratio']]\n",
    "df_birth_M['ratio'] = df_birth_M.ratio / df_birth_M.ratio.sum()\n",
    "\n",
    "#擬似生成された加入者の出生比率\n",
    "df_info_M = df_info.loc[df_info.sex == 'M', ['birth_ym', 'family']]\n",
    "df_info_M['birth_ym'] = df_info.M.birth_ym.apply(ym_to_t) // 1\n",
    "df_info_M = df_info_M.groupby(['birth_ym']).count()\n",
    "df_info_M = df_info_M / df_info_M.sum()\n",
    "df_info_M"
   ]
  },
  {
   "cell_type": "code",
   "execution_count": null,
   "metadata": {},
   "outputs": [],
   "source": []
  }
 ],
 "metadata": {
  "kernelspec": {
   "display_name": "Python 3",
   "language": "python",
   "name": "python3"
  },
  "language_info": {
   "codemirror_mode": {
    "name": "ipython",
    "version": 3
   },
   "file_extension": ".py",
   "mimetype": "text/x-python",
   "name": "python",
   "nbconvert_exporter": "python",
   "pygments_lexer": "ipython3",
   "version": "3.7.4"
  }
 },
 "nbformat": 4,
 "nbformat_minor": 4
}
