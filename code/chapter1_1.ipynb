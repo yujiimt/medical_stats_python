{
 "cells": [
  {
   "cell_type": "code",
   "execution_count": null,
   "metadata": {},
   "outputs": [],
   "source": []
  },
  {
   "cell_type": "code",
   "execution_count": 12,
   "metadata": {},
   "outputs": [],
   "source": [
    "# グラフを移動拡大縮小したい場合\n",
    "%matplotlib notebook\n",
    "# グラフをインラインで表示\n",
    "%matplotlib inline"
   ]
  },
  {
   "cell_type": "code",
   "execution_count": 8,
   "metadata": {},
   "outputs": [],
   "source": [
    "import matplotlib.pyplot as plt\n",
    "import numpy as np\n",
    "import pandas as pd\n",
    "from IPython.display import HTML"
   ]
  },
  {
   "cell_type": "code",
   "execution_count": 3,
   "metadata": {},
   "outputs": [],
   "source": [
    "# 表示する行の数を設定\n",
    "pd.options.display.max_rows = 5\n",
    "\n",
    "#matplotlibのフォントを設定\n",
    "plt.rcParams['font.family'] = 'Time New Roman'\n",
    "plt.rcParams['mathtext.fontset'] = 'stix'"
   ]
  },
  {
   "cell_type": "code",
   "execution_count": 13,
   "metadata": {},
   "outputs": [
    {
     "data": {
      "text/plain": [
       "Text(0.5, 1.0, 'Concept of ANB and ALB')"
      ]
     },
     "execution_count": 13,
     "metadata": {},
     "output_type": "execute_result"
    },
    {
     "data": {
      "image/png": "[encoded data removed]",
      "text/plain": [
       "<Figure size 576x216 with 1 Axes>"
      ]
     },
     "metadata": {
      "needs_background": "light"
     },
     "output_type": "display_data"
    }
   ],
   "source": [
    "# ALB と ANBの違いの概念図\n",
    "\n",
    "fig = plt.figure(figsize = (8, 3))\n",
    "ax = fig.add_subplot(111)\n",
    "ax.annotate(s='', xytext = [39,0],xy = [41.5, 0],\n",
    "           arrowprops = dict(arrowstyle = '->', color = 'k'))\n",
    "ax.text(41.6, 0, 'Age', va = 'center', ha = 'center')\n",
    "\n",
    "\n",
    "# ANB\n",
    "ax.plot([39.5, 40.25], [0.5, 0.5], c='k')\n",
    "ax.plot([39.5, 39.5], [0, 0.5], c='k')\n",
    "ax.plot([40.25, 40.5], [0.5, 0], c='k')\n",
    "ax.text(40, 0.75, 'ANB=40', va='center', ha='center')\n",
    "# ALB\n",
    "ax.plot([40, 40.75], [-0.5, -0.5], c='k')\n",
    "ax.plot([40, 40], [0, -0.5], c='k')\n",
    "ax.plot([40.75, 41], [-0.5, 0], c='k')\n",
    "ax.text(40.5, -0.75, 'ALB=40', va='center', ha='center')\n",
    "\n",
    "# Age\n",
    "ax.text(39.5, -0.2, '39.5', va='center', ha='center')\n",
    "ax.text(40, 0.2, '40', va='center', ha='center')\n",
    "ax.text(40.5, -0.2, '40.5', va='center', ha='center')\n",
    "ax.text(41, 0.2, '41', va='center', ha='center')\n",
    "X = np.arange(4) / 2 + 39.5\n",
    "Y = np.zeros(4)\n",
    "ax.scatter(X, Y, c='k', marker='|')\n",
    "ax.set_xlim(38.5, 42)\n",
    "ax.set_xticklabels('')\n",
    "ax.set_ylim(-1, 1)\n",
    "ax.set_yticklabels('')\n",
    "ax.tick_params(top=False, bottom=False, left=False, right=False)\n",
    "ax.set_title('Concept of ANB and ALB')"
   ]
  },
  {
   "cell_type": "code",
   "execution_count": 14,
   "metadata": {},
   "outputs": [
    {
     "name": "stderr",
     "output_type": "stream",
     "text": [
      "Exception ignored in: <function Comm.__del__ at 0x7fd88db82cb0>\n",
      "Traceback (most recent call last):\n",
      "  File \"/opt/anaconda3/lib/python3.7/site-packages/ipykernel/comm/comm.py\", line 76, in __del__\n",
      "    self.close()\n",
      "  File \"/opt/anaconda3/lib/python3.7/site-packages/ipykernel/comm/comm.py\", line 116, in close\n",
      "    self.kernel.comm_manager.unregister_comm(self)\n",
      "  File \"/opt/anaconda3/lib/python3.7/site-packages/ipykernel/comm/manager.py\", line 56, in unregister_comm\n",
      "    comm = self.comms.pop(comm.comm_id)\n",
      "KeyError: ('edae56e8f3ca4634b06a38ef63c7b28a',)\n",
      "Exception ignored in: <function Comm.__del__ at 0x7fd88db82cb0>\n",
      "Traceback (most recent call last):\n",
      "  File \"/opt/anaconda3/lib/python3.7/site-packages/ipykernel/comm/comm.py\", line 76, in __del__\n",
      "    self.close()\n",
      "  File \"/opt/anaconda3/lib/python3.7/site-packages/ipykernel/comm/comm.py\", line 116, in close\n",
      "    self.kernel.comm_manager.unregister_comm(self)\n",
      "  File \"/opt/anaconda3/lib/python3.7/site-packages/ipykernel/comm/manager.py\", line 56, in unregister_comm\n",
      "    comm = self.comms.pop(comm.comm_id)\n",
      "KeyError: ('47dbd4f800054a9dbfa5e0aa53da8944',)\n",
      "Exception ignored in: <function Comm.__del__ at 0x7fd88db82cb0>\n",
      "Traceback (most recent call last):\n",
      "  File \"/opt/anaconda3/lib/python3.7/site-packages/ipykernel/comm/comm.py\", line 76, in __del__\n",
      "    self.close()\n",
      "  File \"/opt/anaconda3/lib/python3.7/site-packages/ipykernel/comm/comm.py\", line 116, in close\n",
      "    self.kernel.comm_manager.unregister_comm(self)\n",
      "  File \"/opt/anaconda3/lib/python3.7/site-packages/ipykernel/comm/manager.py\", line 56, in unregister_comm\n",
      "    comm = self.comms.pop(comm.comm_id)\n",
      "KeyError: ('2acf5917a033441f8f4059ad00a4eca6',)\n"
     ]
    },
    {
     "data": {
      "text/html": [
       "<div>\n",
       "<style scoped>\n",
       "    .dataframe tbody tr th:only-of-type {\n",
       "        vertical-align: middle;\n",
       "    }\n",
       "\n",
       "    .dataframe tbody tr th {\n",
       "        vertical-align: top;\n",
       "    }\n",
       "\n",
       "    .dataframe thead th {\n",
       "        text-align: right;\n",
       "    }\n",
       "</style>\n",
       "<table border=\"1\" class=\"dataframe\">\n",
       "  <thead>\n",
       "    <tr style=\"text-align: right;\">\n",
       "      <th></th>\n",
       "      <th>Year</th>\n",
       "      <th>Female</th>\n",
       "      <th>Male</th>\n",
       "      <th>Total</th>\n",
       "    </tr>\n",
       "  </thead>\n",
       "  <tbody>\n",
       "    <tr>\n",
       "      <td>0</td>\n",
       "      <td>1947</td>\n",
       "      <td>1301806</td>\n",
       "      <td>1376986</td>\n",
       "      <td>2678792</td>\n",
       "    </tr>\n",
       "    <tr>\n",
       "      <td>1</td>\n",
       "      <td>1948</td>\n",
       "      <td>1303060</td>\n",
       "      <td>1378564</td>\n",
       "      <td>2681624</td>\n",
       "    </tr>\n",
       "    <tr>\n",
       "      <td>2</td>\n",
       "      <td>1949</td>\n",
       "      <td>1316630</td>\n",
       "      <td>1380008</td>\n",
       "      <td>2696638</td>\n",
       "    </tr>\n",
       "    <tr>\n",
       "      <td>3</td>\n",
       "      <td>1950</td>\n",
       "      <td>1134396</td>\n",
       "      <td>1203111</td>\n",
       "      <td>2337507</td>\n",
       "    </tr>\n",
       "    <tr>\n",
       "      <td>4</td>\n",
       "      <td>1951</td>\n",
       "      <td>1043048</td>\n",
       "      <td>1094641</td>\n",
       "      <td>2137689</td>\n",
       "    </tr>\n",
       "  </tbody>\n",
       "</table>\n",
       "</div>"
      ],
      "text/plain": [
       "   Year   Female     Male    Total\n",
       "0  1947  1301806  1376986  2678792\n",
       "1  1948  1303060  1378564  2681624\n",
       "2  1949  1316630  1380008  2696638\n",
       "3  1950  1134396  1203111  2337507\n",
       "4  1951  1043048  1094641  2137689"
      ]
     },
     "execution_count": 14,
     "metadata": {},
     "output_type": "execute_result"
    }
   ],
   "source": [
    "url = 'http://www.ipss.go.jp/p-toukei/JMD/00/STATS/Births.txt'\n",
    "\n",
    "df_train = pd.read_csv(url, skiprows = 1, delim_whitespace = True)\n",
    "\n",
    "df_train.head()    "
   ]
  },
  {
   "cell_type": "code",
   "execution_count": 19,
   "metadata": {},
   "outputs": [],
   "source": [
    "df_birth_F = df_train[[\"Year\", \"Female\"]].copy()\n",
    "# 1はlife(生存者)の頭文字\n",
    "df_birth_F.columns = [\"year\", \"1\"]\n",
    "df_birth_F['sex'] = \"F\""
   ]
  },
  {
   "cell_type": "code",
   "execution_count": 20,
   "metadata": {},
   "outputs": [],
   "source": [
    "df_birth_M = df_train[['Year', \"Male\"]].copy()\n",
    "df_birth_M.columns = [\"year\", \"1\"]\n",
    "df_birth_M['sex'] = \"M\""
   ]
  },
  {
   "cell_type": "code",
   "execution_count": 23,
   "metadata": {},
   "outputs": [],
   "source": [
    "df = pd.concat([df_birth_F, df_birth_M], axis = 0, ignore_index = True)"
   ]
  },
  {
   "cell_type": "code",
   "execution_count": 24,
   "metadata": {},
   "outputs": [
    {
     "data": {
      "text/html": [
       "<div>\n",
       "<style scoped>\n",
       "    .dataframe tbody tr th:only-of-type {\n",
       "        vertical-align: middle;\n",
       "    }\n",
       "\n",
       "    .dataframe tbody tr th {\n",
       "        vertical-align: top;\n",
       "    }\n",
       "\n",
       "    .dataframe thead th {\n",
       "        text-align: right;\n",
       "    }\n",
       "</style>\n",
       "<table border=\"1\" class=\"dataframe\">\n",
       "  <thead>\n",
       "    <tr style=\"text-align: right;\">\n",
       "      <th></th>\n",
       "      <th>year</th>\n",
       "      <th>1</th>\n",
       "      <th>sex</th>\n",
       "    </tr>\n",
       "  </thead>\n",
       "  <tbody>\n",
       "    <tr>\n",
       "      <td>0</td>\n",
       "      <td>1947</td>\n",
       "      <td>1301806</td>\n",
       "      <td>F</td>\n",
       "    </tr>\n",
       "    <tr>\n",
       "      <td>1</td>\n",
       "      <td>1948</td>\n",
       "      <td>1303060</td>\n",
       "      <td>F</td>\n",
       "    </tr>\n",
       "    <tr>\n",
       "      <td>2</td>\n",
       "      <td>1949</td>\n",
       "      <td>1316630</td>\n",
       "      <td>F</td>\n",
       "    </tr>\n",
       "    <tr>\n",
       "      <td>3</td>\n",
       "      <td>1950</td>\n",
       "      <td>1134396</td>\n",
       "      <td>F</td>\n",
       "    </tr>\n",
       "    <tr>\n",
       "      <td>4</td>\n",
       "      <td>1951</td>\n",
       "      <td>1043048</td>\n",
       "      <td>F</td>\n",
       "    </tr>\n",
       "  </tbody>\n",
       "</table>\n",
       "</div>"
      ],
      "text/plain": [
       "   year        1 sex\n",
       "0  1947  1301806   F\n",
       "1  1948  1303060   F\n",
       "2  1949  1316630   F\n",
       "3  1950  1134396   F\n",
       "4  1951  1043048   F"
      ]
     },
     "execution_count": 24,
     "metadata": {},
     "output_type": "execute_result"
    }
   ],
   "source": [
    "df.head()"
   ]
  },
  {
   "cell_type": "code",
   "execution_count": 26,
   "metadata": {},
   "outputs": [],
   "source": [
    "df[\"ratio\"] = df[\"1\"] / df[\"1\"].sum()\n",
    "df[\"cum_ratio\"] = df[\"ratio\"].cumsum()"
   ]
  },
  {
   "cell_type": "code",
   "execution_count": 27,
   "metadata": {},
   "outputs": [
    {
     "data": {
      "text/html": [
       "<div>\n",
       "<style scoped>\n",
       "    .dataframe tbody tr th:only-of-type {\n",
       "        vertical-align: middle;\n",
       "    }\n",
       "\n",
       "    .dataframe tbody tr th {\n",
       "        vertical-align: top;\n",
       "    }\n",
       "\n",
       "    .dataframe thead th {\n",
       "        text-align: right;\n",
       "    }\n",
       "</style>\n",
       "<table border=\"1\" class=\"dataframe\">\n",
       "  <thead>\n",
       "    <tr style=\"text-align: right;\">\n",
       "      <th></th>\n",
       "      <th>year</th>\n",
       "      <th>sex</th>\n",
       "      <th>ratio</th>\n",
       "      <th>cum_ratio</th>\n",
       "    </tr>\n",
       "  </thead>\n",
       "  <tbody>\n",
       "    <tr>\n",
       "      <td>0</td>\n",
       "      <td>1947</td>\n",
       "      <td>F</td>\n",
       "      <td>0.012150</td>\n",
       "      <td>0.012150</td>\n",
       "    </tr>\n",
       "    <tr>\n",
       "      <td>1</td>\n",
       "      <td>1948</td>\n",
       "      <td>F</td>\n",
       "      <td>0.012162</td>\n",
       "      <td>0.024311</td>\n",
       "    </tr>\n",
       "    <tr>\n",
       "      <td>2</td>\n",
       "      <td>1949</td>\n",
       "      <td>F</td>\n",
       "      <td>0.012288</td>\n",
       "      <td>0.036600</td>\n",
       "    </tr>\n",
       "    <tr>\n",
       "      <td>3</td>\n",
       "      <td>1950</td>\n",
       "      <td>F</td>\n",
       "      <td>0.010587</td>\n",
       "      <td>0.047187</td>\n",
       "    </tr>\n",
       "    <tr>\n",
       "      <td>4</td>\n",
       "      <td>1951</td>\n",
       "      <td>F</td>\n",
       "      <td>0.009735</td>\n",
       "      <td>0.056922</td>\n",
       "    </tr>\n",
       "  </tbody>\n",
       "</table>\n",
       "</div>"
      ],
      "text/plain": [
       "   year sex     ratio  cum_ratio\n",
       "0  1947   F  0.012150   0.012150\n",
       "1  1948   F  0.012162   0.024311\n",
       "2  1949   F  0.012288   0.036600\n",
       "3  1950   F  0.010587   0.047187\n",
       "4  1951   F  0.009735   0.056922"
      ]
     },
     "execution_count": 27,
     "metadata": {},
     "output_type": "execute_result"
    }
   ],
   "source": [
    "del df[\"1\"]\n",
    "\n",
    "df.head()"
   ]
  },
  {
   "cell_type": "code",
   "execution_count": 28,
   "metadata": {},
   "outputs": [],
   "source": [
    "df.to_csv('ipss_birth.csv', index = False)"
   ]
  },
  {
   "cell_type": "code",
   "execution_count": 31,
   "metadata": {},
   "outputs": [
    {
     "data": {
      "text/html": [
       "<div>\n",
       "<style scoped>\n",
       "    .dataframe tbody tr th:only-of-type {\n",
       "        vertical-align: middle;\n",
       "    }\n",
       "\n",
       "    .dataframe tbody tr th {\n",
       "        vertical-align: top;\n",
       "    }\n",
       "\n",
       "    .dataframe thead th {\n",
       "        text-align: right;\n",
       "    }\n",
       "</style>\n",
       "<table border=\"1\" class=\"dataframe\">\n",
       "  <thead>\n",
       "    <tr style=\"text-align: right;\">\n",
       "      <th></th>\n",
       "      <th>year</th>\n",
       "      <th>sex</th>\n",
       "      <th>ratio</th>\n",
       "      <th>cum_ratio</th>\n",
       "    </tr>\n",
       "  </thead>\n",
       "  <tbody>\n",
       "    <tr>\n",
       "      <td>0</td>\n",
       "      <td>1947</td>\n",
       "      <td>F</td>\n",
       "      <td>0.012150</td>\n",
       "      <td>0.012150</td>\n",
       "    </tr>\n",
       "    <tr>\n",
       "      <td>1</td>\n",
       "      <td>1948</td>\n",
       "      <td>F</td>\n",
       "      <td>0.012162</td>\n",
       "      <td>0.024311</td>\n",
       "    </tr>\n",
       "    <tr>\n",
       "      <td>2</td>\n",
       "      <td>1949</td>\n",
       "      <td>F</td>\n",
       "      <td>0.012288</td>\n",
       "      <td>0.036600</td>\n",
       "    </tr>\n",
       "    <tr>\n",
       "      <td>3</td>\n",
       "      <td>1950</td>\n",
       "      <td>F</td>\n",
       "      <td>0.010587</td>\n",
       "      <td>0.047187</td>\n",
       "    </tr>\n",
       "    <tr>\n",
       "      <td>4</td>\n",
       "      <td>1951</td>\n",
       "      <td>F</td>\n",
       "      <td>0.009735</td>\n",
       "      <td>0.056922</td>\n",
       "    </tr>\n",
       "  </tbody>\n",
       "</table>\n",
       "</div>"
      ],
      "text/plain": [
       "   year sex     ratio  cum_ratio\n",
       "0  1947   F  0.012150   0.012150\n",
       "1  1948   F  0.012162   0.024311\n",
       "2  1949   F  0.012288   0.036600\n",
       "3  1950   F  0.010587   0.047187\n",
       "4  1951   F  0.009735   0.056922"
      ]
     },
     "execution_count": 31,
     "metadata": {},
     "output_type": "execute_result"
    }
   ],
   "source": [
    "df_birth = pd.read_csv('ipss_birth.csv')\n",
    "df_birth.head()"
   ]
  },
  {
   "cell_type": "code",
   "execution_count": 32,
   "metadata": {},
   "outputs": [
    {
     "data": {
      "text/plain": [
       "Text(0.5, 1.0, 'Cumulative Ratio of Population Birth')"
      ]
     },
     "execution_count": 32,
     "metadata": {},
     "output_type": "execute_result"
    },
    {
     "data": {
      "image/png": "[encoded data removed]",
      "text/plain": [
       "<Figure size 432x288 with 1 Axes>"
      ]
     },
     "metadata": {
      "needs_background": "light"
     },
     "output_type": "display_data"
    }
   ],
   "source": [
    "fig = plt.figure()\n",
    "ax = fig.add_subplot(111)\n",
    "\n",
    "# 折れ線\n",
    "x = df_birth.index\n",
    "y = df_birth['cum_ratio']\n",
    "ax.plot(x, y)\n",
    "\n",
    "xlabels = df_birth['year'].apply(str) + ' ' + df_birth['sex']\n",
    "ax.set_xticks(x[::10])\n",
    "ax.set_xticklabels(xlabels[::10], rotation='45')\n",
    "\n",
    "# 水平矢印\n",
    "ax.annotate(s='', xytext=[0, 0.7], xy=[92.57888, 0.7],\n",
    " arrowprops=dict(arrowstyle='->', color='k'))\n",
    "# 垂直矢印\n",
    "ax.annotate(s='', xytext=[92.57888, 0.7], xy=[92.57888, 0],\n",
    " arrowprops=dict(arrowstyle='->', color='k'))\n",
    "# テキスト\n",
    "ax.text(x=0, y=0.72, s='$random\\ number=0.7$')\n",
    "ax.text(x=94, y=0.1, s='$1969,\\ M$')\n",
    "# タイトル\n",
    "ax.set_title('Cumulative Ratio of Population Birth')"
   ]
  },
  {
   "cell_type": "code",
   "execution_count": 43,
   "metadata": {},
   "outputs": [
    {
     "data": {
      "text/html": [
       "<div>\n",
       "<style scoped>\n",
       "    .dataframe tbody tr th:only-of-type {\n",
       "        vertical-align: middle;\n",
       "    }\n",
       "\n",
       "    .dataframe tbody tr th {\n",
       "        vertical-align: top;\n",
       "    }\n",
       "\n",
       "    .dataframe thead th {\n",
       "        text-align: right;\n",
       "    }\n",
       "</style>\n",
       "<table border=\"1\" class=\"dataframe\">\n",
       "  <thead>\n",
       "    <tr style=\"text-align: right;\">\n",
       "      <th></th>\n",
       "      <th>Year</th>\n",
       "      <th>Age</th>\n",
       "      <th>Female</th>\n",
       "      <th>Male</th>\n",
       "      <th>Total</th>\n",
       "    </tr>\n",
       "  </thead>\n",
       "  <tbody>\n",
       "    <tr>\n",
       "      <td>0</td>\n",
       "      <td>1947</td>\n",
       "      <td>0</td>\n",
       "      <td>0.087401</td>\n",
       "      <td>0.099181</td>\n",
       "      <td>0.093432</td>\n",
       "    </tr>\n",
       "    <tr>\n",
       "      <td>1</td>\n",
       "      <td>1947</td>\n",
       "      <td>1</td>\n",
       "      <td>0.033723</td>\n",
       "      <td>0.034697</td>\n",
       "      <td>0.034220</td>\n",
       "    </tr>\n",
       "    <tr>\n",
       "      <td>2</td>\n",
       "      <td>1947</td>\n",
       "      <td>2</td>\n",
       "      <td>0.016994</td>\n",
       "      <td>0.016804</td>\n",
       "      <td>0.016897</td>\n",
       "    </tr>\n",
       "    <tr>\n",
       "      <td>3</td>\n",
       "      <td>1947</td>\n",
       "      <td>3</td>\n",
       "      <td>0.011412</td>\n",
       "      <td>0.011461</td>\n",
       "      <td>0.011437</td>\n",
       "    </tr>\n",
       "    <tr>\n",
       "      <td>4</td>\n",
       "      <td>1947</td>\n",
       "      <td>4</td>\n",
       "      <td>0.006918</td>\n",
       "      <td>0.007337</td>\n",
       "      <td>0.007130</td>\n",
       "    </tr>\n",
       "  </tbody>\n",
       "</table>\n",
       "</div>"
      ],
      "text/plain": [
       "   Year Age    Female      Male     Total\n",
       "0  1947   0  0.087401  0.099181  0.093432\n",
       "1  1947   1  0.033723  0.034697  0.034220\n",
       "2  1947   2  0.016994  0.016804  0.016897\n",
       "3  1947   3  0.011412  0.011461  0.011437\n",
       "4  1947   4  0.006918  0.007337  0.007130"
      ]
     },
     "execution_count": 43,
     "metadata": {},
     "output_type": "execute_result"
    }
   ],
   "source": [
    "url = 'http://www.ipss.go.jp/p-toukei/JMD/00/STATS/Mx_1x1.txt'\n",
    "\n",
    "df_mortality = pd.read_csv(url, skiprows = 1, delim_whitespace = True)\n",
    "df_mortality.head()"
   ]
  },
  {
   "cell_type": "code",
   "execution_count": 44,
   "metadata": {},
   "outputs": [
    {
     "data": {
      "text/plain": [
       "Year       int64\n",
       "Age       object\n",
       "Female    object\n",
       "Male      object\n",
       "Total     object\n",
       "dtype: object"
      ]
     },
     "execution_count": 44,
     "metadata": {},
     "output_type": "execute_result"
    }
   ],
   "source": [
    "df_mortality.dtypes"
   ]
  },
  {
   "cell_type": "code",
   "execution_count": 45,
   "metadata": {},
   "outputs": [
    {
     "data": {
      "text/plain": [
       "Year        int16\n",
       "Age         int16\n",
       "Female    float64\n",
       "Male      float64\n",
       "Total     float64\n",
       "dtype: object"
      ]
     },
     "execution_count": 45,
     "metadata": {},
     "output_type": "execute_result"
    }
   ],
   "source": [
    "df_mortality = df_mortality[df_mortality['Year'] == 2016].copy()\n",
    "df_mortality['Age'].replace('110+', '110', inplace = True)\n",
    "\n",
    "dict_types = {'Year':'int16', 'Age':'int16', 'Female':'float64', 'Male':'float64', 'Total':'float64'}\n",
    "\n",
    "df_mortality = df_mortality.astype(dict_types)\n",
    "\n",
    "df_mortality.dtypes"
   ]
  },
  {
   "cell_type": "code",
   "execution_count": 46,
   "metadata": {},
   "outputs": [],
   "source": [
    "del df_mortality['Year']\n",
    "del df_mortality['Total']\n",
    "\n",
    "df_mortality.columns = ['anb', 'F', 'M']\n"
   ]
  },
  {
   "cell_type": "code",
   "execution_count": 47,
   "metadata": {},
   "outputs": [
    {
     "data": {
      "text/html": [
       "<div>\n",
       "<style scoped>\n",
       "    .dataframe tbody tr th:only-of-type {\n",
       "        vertical-align: middle;\n",
       "    }\n",
       "\n",
       "    .dataframe tbody tr th {\n",
       "        vertical-align: top;\n",
       "    }\n",
       "\n",
       "    .dataframe thead th {\n",
       "        text-align: right;\n",
       "    }\n",
       "</style>\n",
       "<table border=\"1\" class=\"dataframe\">\n",
       "  <thead>\n",
       "    <tr style=\"text-align: right;\">\n",
       "      <th></th>\n",
       "      <th>alb</th>\n",
       "      <th>F</th>\n",
       "      <th>M</th>\n",
       "    </tr>\n",
       "  </thead>\n",
       "  <tbody>\n",
       "    <tr>\n",
       "      <td>7659</td>\n",
       "      <td>0</td>\n",
       "      <td>0.001170</td>\n",
       "      <td>0.001167</td>\n",
       "    </tr>\n",
       "    <tr>\n",
       "      <td>7660</td>\n",
       "      <td>1</td>\n",
       "      <td>0.000244</td>\n",
       "      <td>0.000259</td>\n",
       "    </tr>\n",
       "    <tr>\n",
       "      <td>7661</td>\n",
       "      <td>2</td>\n",
       "      <td>0.000136</td>\n",
       "      <td>0.000155</td>\n",
       "    </tr>\n",
       "    <tr>\n",
       "      <td>7662</td>\n",
       "      <td>3</td>\n",
       "      <td>0.000092</td>\n",
       "      <td>0.000114</td>\n",
       "    </tr>\n",
       "    <tr>\n",
       "      <td>7663</td>\n",
       "      <td>4</td>\n",
       "      <td>0.000085</td>\n",
       "      <td>0.000098</td>\n",
       "    </tr>\n",
       "  </tbody>\n",
       "</table>\n",
       "</div>"
      ],
      "text/plain": [
       "      alb         F         M\n",
       "7659    0  0.001170  0.001167\n",
       "7660    1  0.000244  0.000259\n",
       "7661    2  0.000136  0.000155\n",
       "7662    3  0.000092  0.000114\n",
       "7663    4  0.000085  0.000098"
      ]
     },
     "execution_count": 47,
     "metadata": {},
     "output_type": "execute_result"
    }
   ],
   "source": [
    "df_mortality[\"F\"] = (df_mortality['F'] + df_mortality['F'].shift(-1))/2\n",
    "df_mortality[\"M\"] = (df_mortality['M'] + df_mortality['M'].shift(-1))/2\n",
    "\n",
    "df_mortality.columns = ['alb', 'F', 'M']\n",
    "\n",
    "df_mortality.head()"
   ]
  },
  {
   "cell_type": "code",
   "execution_count": 48,
   "metadata": {},
   "outputs": [
    {
     "data": {
      "text/plain": [
       "Text(0.5, 1.0, 'Moratality')"
      ]
     },
     "execution_count": 48,
     "metadata": {},
     "output_type": "execute_result"
    },
    {
     "name": "stderr",
     "output_type": "stream",
     "text": [
      "findfont: Font family ['Time New Roman'] not found. Falling back to DejaVu Sans.\n"
     ]
    },
    {
     "data": {
      "image/png": "[encoded data removed]",
      "text/plain": [
       "<Figure size 432x288 with 1 Axes>"
      ]
     },
     "metadata": {
      "needs_background": "light"
     },
     "output_type": "display_data"
    }
   ],
   "source": [
    "# 年齢別に死亡率を可視化\n",
    "\n",
    "fig = plt.figure()\n",
    "ax = fig.add_subplot(111)\n",
    "\n",
    "ax.plot(df_mortality.alb, df_mortality.M, c = 'b', label = \"Male\")\n",
    "ax.plot(df_mortality.alb, df_mortality.F, c = 'r', label = \"Female\")\n",
    "\n",
    "ax.plot([0, 110], [1, 1], c = 'k', ls = '--')\n",
    "ax.set_xlabel('ALB')\n",
    "ax.set_ylabel('Moratality')\n",
    "\n",
    "ax.legend(loc = 'best')\n",
    "ax.set_title(\"Moratality\", fontsize = 15)"
   ]
  },
  {
   "cell_type": "code",
   "execution_count": 49,
   "metadata": {},
   "outputs": [
    {
     "data": {
      "text/html": [
       "<div>\n",
       "<style scoped>\n",
       "    .dataframe tbody tr th:only-of-type {\n",
       "        vertical-align: middle;\n",
       "    }\n",
       "\n",
       "    .dataframe tbody tr th {\n",
       "        vertical-align: top;\n",
       "    }\n",
       "\n",
       "    .dataframe thead th {\n",
       "        text-align: right;\n",
       "    }\n",
       "</style>\n",
       "<table border=\"1\" class=\"dataframe\">\n",
       "  <thead>\n",
       "    <tr style=\"text-align: right;\">\n",
       "      <th></th>\n",
       "      <th>alb</th>\n",
       "      <th>F</th>\n",
       "      <th>M</th>\n",
       "    </tr>\n",
       "  </thead>\n",
       "  <tbody>\n",
       "    <tr>\n",
       "      <td>7659</td>\n",
       "      <td>0</td>\n",
       "      <td>0.001170</td>\n",
       "      <td>0.001167</td>\n",
       "    </tr>\n",
       "    <tr>\n",
       "      <td>7660</td>\n",
       "      <td>1</td>\n",
       "      <td>0.000244</td>\n",
       "      <td>0.000259</td>\n",
       "    </tr>\n",
       "    <tr>\n",
       "      <td>7661</td>\n",
       "      <td>2</td>\n",
       "      <td>0.000136</td>\n",
       "      <td>0.000155</td>\n",
       "    </tr>\n",
       "    <tr>\n",
       "      <td>7662</td>\n",
       "      <td>3</td>\n",
       "      <td>0.000092</td>\n",
       "      <td>0.000114</td>\n",
       "    </tr>\n",
       "    <tr>\n",
       "      <td>7663</td>\n",
       "      <td>4</td>\n",
       "      <td>0.000085</td>\n",
       "      <td>0.000098</td>\n",
       "    </tr>\n",
       "  </tbody>\n",
       "</table>\n",
       "</div>"
      ],
      "text/plain": [
       "      alb         F         M\n",
       "7659    0  0.001170  0.001167\n",
       "7660    1  0.000244  0.000259\n",
       "7661    2  0.000136  0.000155\n",
       "7662    3  0.000092  0.000114\n",
       "7663    4  0.000085  0.000098"
      ]
     },
     "execution_count": 49,
     "metadata": {},
     "output_type": "execute_result"
    }
   ],
   "source": [
    "df_mortality = df_mortality[df_mortality['alb'] < 100].copy()\n",
    "df_mortality.head()"
   ]
  },
  {
   "cell_type": "code",
   "execution_count": 50,
   "metadata": {},
   "outputs": [
    {
     "data": {
      "text/html": [
       "<div>\n",
       "<style scoped>\n",
       "    .dataframe tbody tr th:only-of-type {\n",
       "        vertical-align: middle;\n",
       "    }\n",
       "\n",
       "    .dataframe tbody tr th {\n",
       "        vertical-align: top;\n",
       "    }\n",
       "\n",
       "    .dataframe thead th {\n",
       "        text-align: right;\n",
       "    }\n",
       "</style>\n",
       "<table border=\"1\" class=\"dataframe\">\n",
       "  <thead>\n",
       "    <tr style=\"text-align: right;\">\n",
       "      <th></th>\n",
       "      <th>alb</th>\n",
       "      <th>F</th>\n",
       "      <th>M</th>\n",
       "    </tr>\n",
       "  </thead>\n",
       "  <tbody>\n",
       "    <tr>\n",
       "      <td>7659</td>\n",
       "      <td>0</td>\n",
       "      <td>0.000098</td>\n",
       "      <td>0.000097</td>\n",
       "    </tr>\n",
       "    <tr>\n",
       "      <td>7660</td>\n",
       "      <td>1</td>\n",
       "      <td>0.000020</td>\n",
       "      <td>0.000022</td>\n",
       "    </tr>\n",
       "    <tr>\n",
       "      <td>7661</td>\n",
       "      <td>2</td>\n",
       "      <td>0.000011</td>\n",
       "      <td>0.000013</td>\n",
       "    </tr>\n",
       "    <tr>\n",
       "      <td>7662</td>\n",
       "      <td>3</td>\n",
       "      <td>0.000008</td>\n",
       "      <td>0.000010</td>\n",
       "    </tr>\n",
       "    <tr>\n",
       "      <td>7663</td>\n",
       "      <td>4</td>\n",
       "      <td>0.000007</td>\n",
       "      <td>0.000008</td>\n",
       "    </tr>\n",
       "  </tbody>\n",
       "</table>\n",
       "</div>"
      ],
      "text/plain": [
       "      alb         F         M\n",
       "7659    0  0.000098  0.000097\n",
       "7660    1  0.000020  0.000022\n",
       "7661    2  0.000011  0.000013\n",
       "7662    3  0.000008  0.000010\n",
       "7663    4  0.000007  0.000008"
      ]
     },
     "execution_count": 50,
     "metadata": {},
     "output_type": "execute_result"
    }
   ],
   "source": [
    "df_mortality.loc[:, 'F'] = 1 - (1 - df_mortality[\"F\"])**(1/12)\n",
    "df_mortality.loc[:, 'M'] = 1 - (1 - df_mortality[\"M\"])**(1/12)\n",
    "\n",
    "df_mortality.head()"
   ]
  },
  {
   "cell_type": "code",
   "execution_count": 52,
   "metadata": {},
   "outputs": [],
   "source": [
    "df_mortality.to_csv('ipss_mortality.csv', index = False)"
   ]
  },
  {
   "cell_type": "code",
   "execution_count": null,
   "metadata": {},
   "outputs": [],
   "source": []
  }
 ],
 "metadata": {
  "kernelspec": {
   "display_name": "Python 3",
   "language": "python",
   "name": "python3"
  },
  "language_info": {
   "codemirror_mode": {
    "name": "ipython",
    "version": 3
   },
   "file_extension": ".py",
   "mimetype": "text/x-python",
   "name": "python",
   "nbconvert_exporter": "python",
   "pygments_lexer": "ipython3",
   "version": "3.7.4"
  }
 },
 "nbformat": 4,
 "nbformat_minor": 4
}
